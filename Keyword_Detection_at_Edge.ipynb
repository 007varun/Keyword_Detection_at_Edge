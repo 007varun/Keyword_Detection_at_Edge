{
 "cells": [
  {
   "cell_type": "code",
   "execution_count": 6,
   "metadata": {
    "_cell_guid": "b1076dfc-b9ad-4769-8c92-a6c4dae69d19",
    "_uuid": "8f2839f25d086af736a60e9eeb907d3b93b6e0e5",
    "id": "uc4rFTpmMegJ"
   },
   "outputs": [],
   "source": [
    "import numpy as np \n",
    "import pandas as pd \n",
    "import os\n",
    "from scipy.io import wavfile\n",
    "import tensorflow as tf\n",
    "import seaborn as sns\n",
    "from sklearn.metrics import confusion_matrix\n",
    "from sklearn.preprocessing import LabelEncoder\n",
    "from tensorflow.keras.utils import to_categorical\n",
    "from tensorflow.keras.models import Sequential\n",
    "from tensorflow.keras import optimizers\n",
    "from sklearn.model_selection import train_test_split \n",
    "import matplotlib.pyplot as plt\n",
    "import python_speech_features\n",
    "import datetime\n"
   ]
  },
  {
   "cell_type": "code",
   "execution_count": null,
   "metadata": {
    "_kg_hide-output": true,
    "collapsed": true
   },
   "outputs": [],
   "source": [
    "print(datetime.datetime.now())\n",
    "s = {'left','yes','no','off','on'}\n",
    "audio = []\n",
    "label_y = []\n",
    "counta = 0\n",
    "countb = 0\n",
    "\n",
    "for folder in os.listdir(\"../../a/train/\"):\n",
    "        for filename in os.listdir(\"../../a/train/\"+folder):\n",
    "                rate , audio_file = wavfile.read(\"../../a/train/\"+folder+\"/\"+filename)\n",
    "                if(len(audio_file) != 16000):\n",
    "                    continue\n",
    "                audio.append(python_speech_features.base.mfcc(aaa, winlen=0.040, winstep=0.020, numcep=40, nfilt = 40, nfft = 640))\n",
    "                if (folder in s):\n",
    "                    counta += 1\n",
    "                    label_y.append(folder)\n",
    "                else:\n",
    "                    label_y.append(\"unknown\")\n",
    "                    countb += 1\n",
    "print(datetime.datetime.now())"
   ]
  },
  {
   "cell_type": "code",
   "execution_count": 2,
   "metadata": {},
   "outputs": [
    {
     "data": {
      "text/plain": [
       "<tensorflow.python.tpu.topology.Topology at 0x7f80e6cc2b10>"
      ]
     },
     "execution_count": 2,
     "metadata": {},
     "output_type": "execute_result"
    }
   ],
   "source": [
    "#TPU only\n",
    "tpu = tf.distribute.cluster_resolver.TPUClusterResolver()\n",
    "tf.config.experimental_connect_to_cluster(tpu)\n",
    "tf.tpu.experimental.initialize_tpu_system(tpu)"
   ]
  },
  {
   "cell_type": "code",
   "execution_count": 3,
   "metadata": {},
   "outputs": [],
   "source": [
    "#TPU only\n",
    "tpu_strategy = tf.distribute.experimental.TPUStrategy(tpu)"
   ]
  },
  {
   "cell_type": "code",
   "execution_count": null,
   "metadata": {},
   "outputs": [],
   "source": [
    "label_y = np.array(label_y)\n",
    "audio = np.array(audio,dtype='float32')\n",
    "np.save(\"audio\",audio)\n",
    "np.save(\"label_y\",label_y)"
   ]
  },
  {
   "cell_type": "code",
   "execution_count": 9,
   "metadata": {
    "id": "JnZI2cwGMehQ"
   },
   "outputs": [],
   "source": [
    "label_y = np.load(\"../input/label_y.npy\")\n",
    "audio = np.load(\"../input/audio.npy\")\n"
   ]
  },
  {
   "cell_type": "code",
   "execution_count": 10,
   "metadata": {
    "id": "l6aLtd_jMeha"
   },
   "outputs": [],
   "source": [
    "le = LabelEncoder()\n",
    "label  = to_categorical(le.fit_transform(label_y))"
   ]
  },
  {
   "cell_type": "code",
   "execution_count": 11,
   "metadata": {
    "executionInfo": {
     "elapsed": 2441,
     "status": "ok",
     "timestamp": 1587708541782,
     "user": {
      "displayName": "Raviteja Jagadish",
      "photoUrl": "https://lh3.googleusercontent.com/a-/AOh14GhWf5SpA80-qq9SNI-i8Mtom-Qiegw-EgukwcQ69Q=s64",
      "userId": "11399442153727646432"
     },
     "user_tz": -330
    },
    "id": "X0eesl51Mehj",
    "outputId": "5813f3c2-51fb-4832-a572-f223d769ca86"
   },
   "outputs": [
    {
     "name": "stdout",
     "output_type": "stream",
     "text": [
      "[0. 0. 0. 0. 1. 0.] unknown\n",
      "[0. 0. 0. 0. 0. 1.] yes\n",
      "[1. 0. 0. 0. 0. 0.] left\n",
      "[0. 1. 0. 0. 0. 0.] no\n",
      "[0. 0. 1. 0. 0. 0.] off\n",
      "[0. 0. 0. 1. 0. 0.] on\n"
     ]
    }
   ],
   "source": [
    "se = set()\n",
    "for i in range(len(label_y)):\n",
    "    if(label_y[i] not in se):\n",
    "        se.add(label_y[i])\n",
    "        print(y[i],label_y[i])"
   ]
  },
  {
   "cell_type": "code",
   "execution_count": 12,
   "metadata": {
    "id": "WnerW-z8Mehu"
   },
   "outputs": [],
   "source": [
    "audio_train, audio_test, label_train, label_test = train_test_split(audio, label, test_size=0.2, random_state = 63)\n"
   ]
  },
  {
   "cell_type": "code",
   "execution_count": 21,
   "metadata": {
    "id": "aC3wOxjtMeh8"
   },
   "outputs": [],
   "source": [
    "\n",
    "    model = Sequential()\n",
    "    model.add(tf.keras.layers.Conv2D(16,(3,3),input_shape =(49,40,1),activation='relu',padding='same'))\n",
    "    model.add(tf.keras.layers.BatchNormalization())\n",
    "    model.add(tf.keras.layers.Dropout(0.25))\n",
    "    model.add(tf.keras.layers.SeparableConv2D(8,(7,7),activation='relu'))\n",
    "    model.add(tf.keras.layers.AveragePooling2D(pool_size = (2,2),strides = 2))\n",
    "    model.add(tf.keras.layers.BatchNormalization())\n",
    "    model.add(tf.keras.layers.Dropout(0.25))\n",
    "    model.add(tf.keras.layers.Flatten())\n",
    "    model.add(tf.keras.layers.Dense(6,activation='softmax'))\n",
    "    model.compile(loss=\"categorical_crossentropy\",optimizer=\"adam\",metrics=['accuracy'])"
   ]
  },
  {
   "cell_type": "code",
   "execution_count": null,
   "metadata": {},
   "outputs": [],
   "source": [
    "history = model.fit(audio_train, label_train, batch_size=64, epochs=50,callbacks = [tf.keras.callbacks.ModelCheckpoint(\"./model/\", monitor='val_loss')],\n",
    "validation_data=(audio_test, label_test), verbose=1)"
   ]
  },
  {
   "cell_type": "code",
   "execution_count": 22,
   "metadata": {},
   "outputs": [
    {
     "name": "stdout",
     "output_type": "stream",
     "text": [
      "Train on 73536 samples, validate on 18390 samples\n",
      "Epoch 1/50\n",
      "73536/73536 [==============================] - 24s 332us/sample - loss: 0.6282 - accuracy: 0.8113 - val_loss: 0.4966 - val_accuracy: 0.8408\n",
      "Epoch 2/50\n",
      "73536/73536 [==============================] - 14s 197us/sample - loss: 0.4764 - accuracy: 0.8456 - val_loss: 0.4243 - val_accuracy: 0.8620\n",
      "Epoch 3/50\n",
      "73536/73536 [==============================] - 14s 190us/sample - loss: 0.4187 - accuracy: 0.8616 - val_loss: 0.3667 - val_accuracy: 0.8780\n",
      "Epoch 4/50\n",
      "73536/73536 [==============================] - 14s 194us/sample - loss: 0.3817 - accuracy: 0.8720 - val_loss: 0.3196 - val_accuracy: 0.8941\n",
      "Epoch 5/50\n",
      "73536/73536 [==============================] - 16s 214us/sample - loss: 0.3550 - accuracy: 0.8799 - val_loss: 0.3175 - val_accuracy: 0.8958\n",
      "Epoch 6/50\n",
      "73536/73536 [==============================] - 14s 190us/sample - loss: 0.3378 - accuracy: 0.8861 - val_loss: 0.2969 - val_accuracy: 0.9036\n",
      "Epoch 7/50\n",
      "73536/73536 [==============================] - 14s 189us/sample - loss: 0.3263 - accuracy: 0.8882 - val_loss: 0.2958 - val_accuracy: 0.9046\n",
      "Epoch 8/50\n",
      "73536/73536 [==============================] - 14s 190us/sample - loss: 0.3140 - accuracy: 0.8936 - val_loss: 0.2827 - val_accuracy: 0.9034\n",
      "Epoch 9/50\n",
      "73536/73536 [==============================] - 14s 191us/sample - loss: 0.3089 - accuracy: 0.8932 - val_loss: 0.2896 - val_accuracy: 0.9034\n",
      "Epoch 10/50\n",
      "73536/73536 [==============================] - 14s 196us/sample - loss: 0.3015 - accuracy: 0.8973 - val_loss: 0.2583 - val_accuracy: 0.9134\n",
      "Epoch 11/50\n",
      "73536/73536 [==============================] - 15s 200us/sample - loss: 0.2969 - accuracy: 0.8997 - val_loss: 0.2523 - val_accuracy: 0.9174\n",
      "Epoch 12/50\n",
      "73536/73536 [==============================] - 14s 190us/sample - loss: 0.2938 - accuracy: 0.8998 - val_loss: 0.2626 - val_accuracy: 0.9086\n",
      "Epoch 13/50\n",
      "73536/73536 [==============================] - 14s 192us/sample - loss: 0.2883 - accuracy: 0.9002 - val_loss: 0.2457 - val_accuracy: 0.9205\n",
      "Epoch 14/50\n",
      "73536/73536 [==============================] - 14s 188us/sample - loss: 0.2810 - accuracy: 0.9030 - val_loss: 0.2548 - val_accuracy: 0.9170\n",
      "Epoch 15/50\n",
      "73536/73536 [==============================] - 14s 195us/sample - loss: 0.2822 - accuracy: 0.9027 - val_loss: 0.2423 - val_accuracy: 0.9190\n",
      "Epoch 16/50\n",
      "73536/73536 [==============================] - 14s 195us/sample - loss: 0.2749 - accuracy: 0.9065 - val_loss: 0.2422 - val_accuracy: 0.9193\n",
      "Epoch 17/50\n",
      "73536/73536 [==============================] - 15s 202us/sample - loss: 0.2769 - accuracy: 0.9050 - val_loss: 0.2553 - val_accuracy: 0.9146\n",
      "Epoch 18/50\n",
      "73536/73536 [==============================] - 15s 210us/sample - loss: 0.2710 - accuracy: 0.9069 - val_loss: 0.2412 - val_accuracy: 0.9187\n",
      "Epoch 19/50\n",
      "73536/73536 [==============================] - 14s 193us/sample - loss: 0.2685 - accuracy: 0.9076 - val_loss: 0.2418 - val_accuracy: 0.9163\n",
      "Epoch 20/50\n",
      "73536/73536 [==============================] - 14s 187us/sample - loss: 0.2698 - accuracy: 0.9077 - val_loss: 0.2368 - val_accuracy: 0.9204\n",
      "Epoch 21/50\n",
      "73536/73536 [==============================] - 14s 189us/sample - loss: 0.2670 - accuracy: 0.9081 - val_loss: 0.2364 - val_accuracy: 0.9203\n",
      "Epoch 22/50\n",
      "73536/73536 [==============================] - 14s 189us/sample - loss: 0.2635 - accuracy: 0.9088 - val_loss: 0.2312 - val_accuracy: 0.9240\n",
      "Epoch 23/50\n",
      "73536/73536 [==============================] - 14s 185us/sample - loss: 0.2609 - accuracy: 0.9104 - val_loss: 0.2339 - val_accuracy: 0.9232\n",
      "Epoch 24/50\n",
      "73536/73536 [==============================] - 13s 182us/sample - loss: 0.2624 - accuracy: 0.9109 - val_loss: 0.2332 - val_accuracy: 0.9224\n",
      "Epoch 25/50\n",
      "73536/73536 [==============================] - 13s 183us/sample - loss: 0.2605 - accuracy: 0.9093 - val_loss: 0.2385 - val_accuracy: 0.9207\n",
      "Epoch 26/50\n",
      "73536/73536 [==============================] - 14s 193us/sample - loss: 0.2580 - accuracy: 0.9116 - val_loss: 0.2400 - val_accuracy: 0.9176\n",
      "Epoch 27/50\n",
      "73536/73536 [==============================] - 14s 194us/sample - loss: 0.2596 - accuracy: 0.9111 - val_loss: 0.2379 - val_accuracy: 0.9187\n",
      "Epoch 28/50\n",
      "73536/73536 [==============================] - 14s 186us/sample - loss: 0.2557 - accuracy: 0.9124 - val_loss: 0.2397 - val_accuracy: 0.9187\n",
      "Epoch 29/50\n",
      "73536/73536 [==============================] - 14s 195us/sample - loss: 0.2540 - accuracy: 0.9123 - val_loss: 0.2240 - val_accuracy: 0.9261\n",
      "Epoch 30/50\n",
      "73536/73536 [==============================] - 14s 190us/sample - loss: 0.2576 - accuracy: 0.9111 - val_loss: 0.2276 - val_accuracy: 0.9246\n",
      "Epoch 31/50\n",
      "73536/73536 [==============================] - 13s 182us/sample - loss: 0.2516 - accuracy: 0.9140 - val_loss: 0.2264 - val_accuracy: 0.9245\n",
      "Epoch 32/50\n",
      "73536/73536 [==============================] - 14s 189us/sample - loss: 0.2523 - accuracy: 0.9134 - val_loss: 0.2291 - val_accuracy: 0.9228\n",
      "Epoch 33/50\n",
      "73536/73536 [==============================] - 13s 180us/sample - loss: 0.2520 - accuracy: 0.9134 - val_loss: 0.2298 - val_accuracy: 0.9237\n",
      "Epoch 34/50\n",
      "73536/73536 [==============================] - 14s 184us/sample - loss: 0.2479 - accuracy: 0.9147 - val_loss: 0.2210 - val_accuracy: 0.9260\n",
      "Epoch 35/50\n",
      "73536/73536 [==============================] - 14s 190us/sample - loss: 0.2502 - accuracy: 0.9131 - val_loss: 0.2311 - val_accuracy: 0.9198\n",
      "Epoch 36/50\n",
      "73536/73536 [==============================] - 14s 187us/sample - loss: 0.2497 - accuracy: 0.9136 - val_loss: 0.2251 - val_accuracy: 0.9234\n",
      "Epoch 37/50\n",
      "73536/73536 [==============================] - 14s 193us/sample - loss: 0.2471 - accuracy: 0.9154 - val_loss: 0.2265 - val_accuracy: 0.9220\n",
      "Epoch 38/50\n",
      "73536/73536 [==============================] - 14s 190us/sample - loss: 0.2484 - accuracy: 0.9143 - val_loss: 0.2279 - val_accuracy: 0.9201\n",
      "Epoch 39/50\n",
      "73536/73536 [==============================] - 14s 188us/sample - loss: 0.2481 - accuracy: 0.9135 - val_loss: 0.2250 - val_accuracy: 0.9233\n",
      "Epoch 40/50\n",
      "73536/73536 [==============================] - 14s 194us/sample - loss: 0.2455 - accuracy: 0.9150 - val_loss: 0.2264 - val_accuracy: 0.9256\n",
      "Epoch 41/50\n",
      "73536/73536 [==============================] - 15s 202us/sample - loss: 0.2447 - accuracy: 0.9152 - val_loss: 0.2233 - val_accuracy: 0.9235\n",
      "Epoch 42/50\n",
      "73536/73536 [==============================] - 15s 200us/sample - loss: 0.2457 - accuracy: 0.9160 - val_loss: 0.2224 - val_accuracy: 0.9272\n",
      "Epoch 43/50\n",
      "73536/73536 [==============================] - 14s 191us/sample - loss: 0.2433 - accuracy: 0.9165 - val_loss: 0.2217 - val_accuracy: 0.9262\n",
      "Epoch 44/50\n",
      "73536/73536 [==============================] - 14s 187us/sample - loss: 0.2461 - accuracy: 0.9154 - val_loss: 0.2302 - val_accuracy: 0.9247\n",
      "Epoch 45/50\n",
      "73536/73536 [==============================] - 14s 193us/sample - loss: 0.2433 - accuracy: 0.9169 - val_loss: 0.2187 - val_accuracy: 0.9266\n",
      "Epoch 46/50\n",
      "73536/73536 [==============================] - 14s 187us/sample - loss: 0.2421 - accuracy: 0.9159 - val_loss: 0.2262 - val_accuracy: 0.9249\n",
      "Epoch 47/50\n",
      "73536/73536 [==============================] - 14s 193us/sample - loss: 0.2422 - accuracy: 0.9165 - val_loss: 0.2233 - val_accuracy: 0.9256\n",
      "Epoch 48/50\n",
      "73536/73536 [==============================] - 14s 192us/sample - loss: 0.2411 - accuracy: 0.9180 - val_loss: 0.2242 - val_accuracy: 0.9249\n",
      "Epoch 49/50\n",
      "73536/73536 [==============================] - 14s 184us/sample - loss: 0.2402 - accuracy: 0.9171 - val_loss: 0.2326 - val_accuracy: 0.9227\n",
      "Epoch 50/50\n",
      "73536/73536 [==============================] - 13s 180us/sample - loss: 0.2382 - accuracy: 0.9171 - val_loss: 0.2201 - val_accuracy: 0.9244\n"
     ]
    }
   ],
   "source": [
    "history = model.fit(audio_train, label_train, batch_size=64, epochs=50,callbacks = [tf.keras.callbacks.ModelCheckpoint(\"./model/\", monitor='val_loss')],validation_data=(audio_test, label_test), verbose=1)"
   ]
  },
  {
   "cell_type": "code",
   "execution_count": 23,
   "metadata": {},
   "outputs": [
    {
     "name": "stdout",
     "output_type": "stream",
     "text": [
      "Model: \"sequential_2\"\n",
      "_________________________________________________________________\n",
      "Layer (type)                 Output Shape              Param #   \n",
      "=================================================================\n",
      "conv2d_2 (Conv2D)            (None, 49, 40, 16)        160       \n",
      "_________________________________________________________________\n",
      "batch_normalization_4 (Batch (None, 49, 40, 16)        64        \n",
      "_________________________________________________________________\n",
      "dropout_4 (Dropout)          (None, 49, 40, 16)        0         \n",
      "_________________________________________________________________\n",
      "separable_conv2d_2 (Separabl (None, 43, 34, 8)         920       \n",
      "_________________________________________________________________\n",
      "average_pooling2d_2 (Average (None, 21, 17, 8)         0         \n",
      "_________________________________________________________________\n",
      "batch_normalization_5 (Batch (None, 21, 17, 8)         32        \n",
      "_________________________________________________________________\n",
      "dropout_5 (Dropout)          (None, 21, 17, 8)         0         \n",
      "_________________________________________________________________\n",
      "flatten_2 (Flatten)          (None, 2856)              0         \n",
      "_________________________________________________________________\n",
      "dense_2 (Dense)              (None, 6)                 17142     \n",
      "=================================================================\n",
      "Total params: 18,318\n",
      "Trainable params: 18,270\n",
      "Non-trainable params: 48\n",
      "_________________________________________________________________\n"
     ]
    }
   ],
   "source": [
    "model.summary()"
   ]
  },
  {
   "cell_type": "code",
   "execution_count": null,
   "metadata": {},
   "outputs": [],
   "source": [
    "model.save(\"model1\")"
   ]
  },
  {
   "cell_type": "code",
   "execution_count": null,
   "metadata": {},
   "outputs": [],
   "source": [
    "print(history.history)"
   ]
  },
  {
   "cell_type": "code",
   "execution_count": 24,
   "metadata": {},
   "outputs": [
    {
     "data": {
      "text/plain": [
       "<matplotlib.legend.Legend at 0x7f80bc2c7d10>"
      ]
     },
     "execution_count": 24,
     "metadata": {},
     "output_type": "execute_result"
    },
    {
     "data": {
      "image/png": "[encoded data removed]",
      "text/plain": [
       "<Figure size 576x576 with 1 Axes>"
      ]
     },
     "metadata": {
      "needs_background": "light"
     },
     "output_type": "display_data"
    }
   ],
   "source": [
    "\n",
    "plt.figure(figsize=(8,8))\n",
    "plt.plot(history.history['loss'])\n",
    "plt.plot(history.history['val_loss'])\n",
    "plt.title('model loss')\n",
    "plt.ylabel('loss')\n",
    "plt.xlabel('epoch')\n",
    "plt.legend(['train', 'test'], loc='upper left')\n",
    "plt.savefig('loss')"
   ]
  },
  {
   "cell_type": "code",
   "execution_count": 33,
   "metadata": {},
   "outputs": [
    {
     "data": {
      "image/png": "[encoded data removed]",
      "text/plain": [
       "<Figure size 576x576 with 1 Axes>"
      ]
     },
     "metadata": {
      "needs_background": "light"
     },
     "output_type": "display_data"
    }
   ],
   "source": [
    "plt.figure(figsize=(8,8))\n",
    "plt.plot(history.history['accuracy'])\n",
    "plt.plot(history.history['val_accuracy'])\n",
    "plt.title('model accuracy')\n",
    "plt.ylabel('accuracy')\n",
    "plt.xlabel('epoch')\n",
    "plt.legend(['train', 'test'], loc='upper right')\n",
    "plt.savefig('accuracy')"
   ]
  },
  {
   "cell_type": "code",
   "execution_count": 26,
   "metadata": {
    "id": "eezhACSpMejG"
   },
   "outputs": [],
   "source": [
    "converter = tf.lite.TFLiteConverter.from_keras_model(model)\n",
    "converter.optimizations = [tf.lite.Optimize.DEFAULT]\n",
    "tflite_model = converter.convert()"
   ]
  },
  {
   "cell_type": "code",
   "execution_count": 27,
   "metadata": {
    "id": "sjta8WfXMejX"
   },
   "outputs": [
    {
     "data": {
      "text/plain": [
       "25376"
      ]
     },
     "execution_count": 27,
     "metadata": {},
     "output_type": "execute_result"
    }
   ],
   "source": [
    "open(\"converted_model.tflite\", \"wb\").write(tflite_model)\n"
   ]
  },
  {
   "cell_type": "code",
   "execution_count": 28,
   "metadata": {},
   "outputs": [],
   "source": [
    "y = model.predict(audio_train)\n",
    "Y_pred_classes = np.argmax(y,axis=1) \n",
    "Y_true = np.argmax(label_train,axis=1)"
   ]
  },
  {
   "cell_type": "code",
   "execution_count": 32,
   "metadata": {},
   "outputs": [
    {
     "data": {
      "image/png": "[encoded data removed]",
      "text/plain": [
       "<Figure size 720x720 with 2 Axes>"
      ]
     },
     "metadata": {
      "needs_background": "light"
     },
     "output_type": "display_data"
    }
   ],
   "source": [
    "\n",
    "\n",
    "cm = confusion_matrix(Y_true, Y_pred_classes)\n",
    "df = pd.DataFrame(cm,index=['left', 'no', 'off', 'on','unknown', 'yes'],columns=['left', 'no', 'off', 'on','unknown','yes'])\n",
    "plt.figure(figsize=(10,10))\n",
    "sns.heatmap(df,annot=True,fmt=\"d\",linewidths=.5,cmap=\"Blues\",vmin = 0, vmax = 2300 )\n",
    "plt.savefig('confusion_matrix')"
   ]
  }
 ],
 "metadata": {
  "kernelspec": {
   "display_name": "miniproject",
   "language": "python",
   "name": "miniproject"
  },
  "language_info": {
   "codemirror_mode": {
    "name": "ipython",
    "version": 3
   },
   "file_extension": ".py",
   "mimetype": "text/x-python",
   "name": "python",
   "nbconvert_exporter": "python",
   "pygments_lexer": "ipython3",
   "version": "3.7.7"
  }
 },
 "nbformat": 4,
 "nbformat_minor": 4
}
